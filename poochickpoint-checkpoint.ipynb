{
 "cells": [
  {
   "cell_type": "code",
   "execution_count": 7,
   "id": "268d80a7",
   "metadata": {},
   "outputs": [
    {
     "name": "stdout",
     "output_type": "stream",
     "text": [
      "( 1 , 2 , 3 )\n"
     ]
    }
   ],
   "source": [
    "class Point3D :\n",
    "    \n",
    "    def __init__ (self,x,y,z):\n",
    "        self.x = x\n",
    "        self.y = y\n",
    "        self.z = z\n",
    "    def appeler (self) :\n",
    "        print ('(',self.x ,',', self.y ,',', self.z ,')')\n",
    "        \n",
    "my_point = Point3D (1,2,3)\n",
    "\n",
    "my_point.appeler()"
   ]
  },
  {
   "cell_type": "code",
   "execution_count": 8,
   "id": "0d454625",
   "metadata": {},
   "outputs": [
    {
     "name": "stdout",
     "output_type": "stream",
     "text": [
      "the area of this rectangle is : 12\n",
      "the perimeter of this rectangle is : 14\n"
     ]
    }
   ],
   "source": [
    "class Rectangle :\n",
    "    def __init__ (self,length,width) :\n",
    "        self.length = length\n",
    "        self.width = width\n",
    "    def area (self) :\n",
    "        print ('the area of this rectangle is :',self.length * self.width)\n",
    "    def perimeter (self) :\n",
    "        print ('the perimeter of this rectangle is :',2 * (self.length + self.width))\n",
    "my_rectangle = Rectangle (4,3)\n",
    "my_rectangle.area()\n",
    "my_rectangle.perimeter()"
   ]
  },
  {
   "cell_type": "code",
   "execution_count": 15,
   "id": "140672bc",
   "metadata": {},
   "outputs": [
    {
     "name": "stdout",
     "output_type": "stream",
     "text": [
      "the area of this circle is : 50.24\n",
      "the perimeter of this circle is : 25.12\n",
      "False\n"
     ]
    }
   ],
   "source": [
    "class Circle :\n",
    "    def __init__ (self,O,r) :\n",
    "        self.O = O\n",
    "        self.r = r\n",
    "    def area (self) :\n",
    "        print ('the area of this circle is :',3.14 * self.r**2)\n",
    "    def perimeter(self) :\n",
    "        print ('the perimeter of this circle is :',2 * 3.14 * self.r)\n",
    "    def isInside (self,x,y) :\n",
    "        print (x**2 + y**2 == self.r**2)\n",
    "C = Circle (0,4)\n",
    "C.area()\n",
    "C.perimeter()\n",
    "C.isInside(0,1)"
   ]
  }
 ],
 "metadata": {
  "kernelspec": {
   "display_name": "Python 3 (ipykernel)",
   "language": "python",
   "name": "python3"
  },
  "language_info": {
   "codemirror_mode": {
    "name": "ipython",
    "version": 3
   },
   "file_extension": ".py",
   "mimetype": "text/x-python",
   "name": "python",
   "nbconvert_exporter": "python",
   "pygments_lexer": "ipython3",
   "version": "3.9.7"
  }
 },
 "nbformat": 4,
 "nbformat_minor": 5
}
