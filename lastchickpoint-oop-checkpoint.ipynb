{
 "cells": [
  {
   "cell_type": "code",
   "execution_count": 4,
   "id": "fef823ed",
   "metadata": {},
   "outputs": [
    {
     "name": "stdout",
     "output_type": "stream",
     "text": [
      "the account is created\n",
      "enter the amount to be deposit1200\n",
      "Deposit is succesful and the balance in the account is : 1200.0\n",
      "enter the amount to be withdraw400\n",
      "The withdraw is succesful and the balance in the account is : 800.0\n"
     ]
    }
   ],
   "source": [
    "class bank :\n",
    "    def __init__ (self) :\n",
    "        self.balance = 0\n",
    "        print ('the account is created')\n",
    "    def deposit (self) :\n",
    "        amount = float(input('enter the amount to be deposit :'))\n",
    "        self.balance = self.balance + amount\n",
    "        print ('Deposit is succesful and the balance in the account is :',self.balance)\n",
    "    def withdraw (self) :\n",
    "        amount = float(input('enter the amount to be withdraw :'))\n",
    "        if (self.balance >= amount) :\n",
    "            self.balance = self.balance - amount\n",
    "            print ('The withdraw is succesful and the balance in the account is :',self.balance)\n",
    "        else :\n",
    "            print ('insuficient balance')\n",
    "    def enquiry (self) :\n",
    "        print ('balance in this account is :',self.balance)\n",
    "\n",
    "account = bank()\n",
    "account.deposit()\n",
    "account.withdraw()"
   ]
  },
  {
   "cell_type": "code",
   "execution_count": null,
   "id": "e6af387e",
   "metadata": {},
   "outputs": [],
   "source": []
  }
 ],
 "metadata": {
  "kernelspec": {
   "display_name": "Python 3 (ipykernel)",
   "language": "python",
   "name": "python3"
  },
  "language_info": {
   "codemirror_mode": {
    "name": "ipython",
    "version": 3
   },
   "file_extension": ".py",
   "mimetype": "text/x-python",
   "name": "python",
   "nbconvert_exporter": "python",
   "pygments_lexer": "ipython3",
   "version": "3.9.7"
  }
 },
 "nbformat": 4,
 "nbformat_minor": 5
}
